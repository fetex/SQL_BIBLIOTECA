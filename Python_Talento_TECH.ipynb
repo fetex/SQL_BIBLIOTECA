{
  "nbformat": 4,
  "nbformat_minor": 0,
  "metadata": {
    "colab": {
      "provenance": [],
      "authorship_tag": "ABX9TyMKy5wLFALlUIw9F+TPHEOw",
      "include_colab_link": true
    },
    "kernelspec": {
      "name": "python3",
      "display_name": "Python 3"
    },
    "language_info": {
      "name": "python"
    }
  },
  "cells": [
    {
      "cell_type": "markdown",
      "metadata": {
        "id": "view-in-github",
        "colab_type": "text"
      },
      "source": [
        "<a href=\"https://colab.research.google.com/github/fetex/SQL_BIBLIOTECA/blob/main/Python_Talento_TECH.ipynb\" target=\"_parent\"><img src=\"https://colab.research.google.com/assets/colab-badge.svg\" alt=\"Open In Colab\"/></a>"
      ]
    },
    {
      "cell_type": "code",
      "execution_count": 4,
      "metadata": {
        "id": "ebqajwC3ObWM"
      },
      "outputs": [],
      "source": [
        "# Tipos de datos\n",
        "\n",
        "edad = 12 #Int\n",
        "nombre = 'Dicson'  #String /(srt)\n",
        "gustos =  ['Fútbol', 'Netflix', 'Comida'] #List"
      ]
    },
    {
      "cell_type": "code",
      "source": [
        "resultado1 = 3*3 #Multiplicación\n",
        "resultado2 = 3**3 #Potenciación"
      ],
      "metadata": {
        "id": "vWw2QrVhVAcU"
      },
      "execution_count": 1,
      "outputs": []
    },
    {
      "cell_type": "code",
      "source": [
        "resultado1"
      ],
      "metadata": {
        "colab": {
          "base_uri": "https://localhost:8080/"
        },
        "id": "EutJ2arcVLEU",
        "outputId": "27e4d25d-4b99-4537-c4c2-43c9d9886613"
      },
      "execution_count": 2,
      "outputs": [
        {
          "output_type": "execute_result",
          "data": {
            "text/plain": [
              "9"
            ]
          },
          "metadata": {},
          "execution_count": 2
        }
      ]
    },
    {
      "cell_type": "code",
      "source": [
        "resultado2"
      ],
      "metadata": {
        "colab": {
          "base_uri": "https://localhost:8080/"
        },
        "id": "l7Y0LnAXVMqT",
        "outputId": "dccb2b3d-959f-4236-9ff3-e498cbfa2d03"
      },
      "execution_count": 3,
      "outputs": [
        {
          "output_type": "execute_result",
          "data": {
            "text/plain": [
              "27"
            ]
          },
          "metadata": {},
          "execution_count": 3
        }
      ]
    },
    {
      "cell_type": "markdown",
      "source": [
        "# Tipos de Datos\n",
        "\n",
        "int\n",
        "\n",
        "str"
      ],
      "metadata": {
        "id": "YQng7D4jOgWM"
      }
    }
  ]
}